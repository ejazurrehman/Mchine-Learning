{
 "cells": [
  {
   "cell_type": "markdown",
   "id": "2eee28ca",
   "metadata": {},
   "source": [
    "## Data Preprocessing\n",
    "Prepare By: Ejaz-ur-Rehman\\\n",
    "Date: 25-07-2025\\\n",
    "Email ID: ijazfinance@gmail.com"
   ]
  },
  {
   "cell_type": "markdown",
   "id": "76863c0b",
   "metadata": {},
   "source": [
    "- Preprocessing of data is the essential step in data analysis or machine learning that involves cleaning, transforming, and organizing raw data into a usable format for modeling or analysis.\n",
    "- Preprocessing is to data what prepping ingredients is to cooking. If the data is not cleaned, chopped, and measured right, the final result (our model or analysis) will suffer."
   ]
  },
  {
   "cell_type": "markdown",
   "id": "c77b9d79",
   "metadata": {},
   "source": [
    "## Key Objectives of Data Preprocessing:\n",
    "- Improve data quality\n",
    "- Ensure consistency\n",
    "- Handle missing or incorrect values\n",
    "- Transform data into a format suitable for algorithms\n",
    "- Increase model accuracy and performance"
   ]
  },
  {
   "cell_type": "markdown",
   "id": "4ac3c8fa",
   "metadata": {},
   "source": [
    "## Common Steps in Data Preprocessing:\n",
    "\n",
    "| Step                       | Description                                                                 |\n",
    "| -------------------------- | --------------------------------------------------------------------------- |\n",
    "| **1. Data Cleaning**       | Remove or correct missing, incorrect, or duplicate data.                    |\n",
    "| **2. Data Integration**    | Combine data from multiple sources into a single dataset.                   |\n",
    "| **3. Data Transformation** | Convert data types, scale values, normalize or standardize features.        |\n",
    "| **4. Feature Encoding**    | Convert categorical variables into numerical values (e.g., label encoding). |\n",
    "| **5. Feature Selection**   | Select only relevant columns/features needed for modeling.                  |\n",
    "| **6. Imputation**          | Fill in missing values using statistical or predictive techniques.          |\n",
    "| **7. Splitting the Data**  | Divide into training and testing sets for model development.                |\n",
    "| **8. Scaling**             | Rescale numerical features to bring them to the same range.                 |\n",
    "\n"
   ]
  },
  {
   "cell_type": "markdown",
   "id": "5e46da03",
   "metadata": {},
   "source": [
    "## Why Preprocessing is Important:\n",
    "\n",
    "- Raw data is rarely clean or ready for modeling.\n",
    "- Many machine learning algorithms cannot handle missing or categorical data directly.\n",
    "- Unprocessed data can lead to biased, inaccurate, or failed models."
   ]
  },
  {
   "cell_type": "markdown",
   "id": "00dbc82a",
   "metadata": {},
   "source": [
    "## Data Transformation:\n",
    "\n",
    "- Data transformation is the process of converting data from one format or structure into another—usually to make it more suitable for analysis or machine learning.\n",
    "- it helps:\n",
    "  - Improve model performance\n",
    "  - Ensure consistency in the dataset\n",
    "  - Enable algorithms to work properly on numerical inputs"
   ]
  },
  {
   "cell_type": "markdown",
   "id": "2a3a89e1",
   "metadata": {},
   "source": [
    "## Why is Data Transformation Important:\n",
    "\n",
    "- Most machine learning algorithms require numerical and standardized input. If the data is not transformed appropriately, it can:\n",
    "  - Mislead the model\n",
    "  - Introduce bias\n",
    "  - Reduce accuracy"
   ]
  },
  {
   "cell_type": "markdown",
   "id": "b4740bc2",
   "metadata": {},
   "source": [
    "## Common Types of Data Transformation:\n",
    "\n",
    "| Type                     | Description                                          | Example                           |\n",
    "| ------------------------ | ---------------------------------------------------- | --------------------------------- |\n",
    "| **Scaling**              | Resizes data to a specific range (like 0–1)          | `MinMaxScaler`                    |\n",
    "| **Standardization**      | Centers the data (mean = 0, std = 1)                 | `StandardScaler`                  |\n",
    "| **Normalization**        | Converts rows to unit norm (usually in NLP)          | L2 normalization                  |\n",
    "| **Encoding Categorical** | Converts categories to numbers                       | Label Encoding, One-Hot Encoding  |\n",
    "| **Log Transformation**   | Reduces skewness in distributions                    | `log(x + 1)`                      |\n",
    "| **Binning**              | Groups continuous values into intervals              | Age groups: 0–10, 10–20, etc.     |\n",
    "| **Imputation**           | Fills in missing values                              | Mean, median, regression, etc.    |\n",
    "| **Parsing Dates**        | Extracts parts like year, month from datetime fields | `df['year'] = df['date'].dt.year` |\n",
    "\n"
   ]
  },
  {
   "cell_type": "markdown",
   "id": "225986de",
   "metadata": {},
   "source": [
    "## What is Scaling in Data Preprocessing:\n",
    "\n",
    "- Scaling is the process of transforming numerical features in our dataset to a specific range or distribution. This helps ensure that all features contribute equally to machine learning models, especially distance-based algorithms like K-Nearest Neighbors, SVM, or Gradient Descent–based models like Linear Regression and Neural Networks."
   ]
  },
  {
   "cell_type": "markdown",
   "id": "5717dd97",
   "metadata": {},
   "source": [
    "## Scaling Techniques Comparison Table\n",
    "\n",
    "| **Technique**          | **Library Function (sklearn)** | **Formula**                                     | **Output Range**        | **Best Used When**                                                                                  |         |                                                                  |\n",
    "| ---------------------- | ------------------------------ | ----------------------------------------------- | ----------------------- | --------------------------------------------------------------------------------------------------- | ------- | ---------------------------------------------------------------- |\n",
    "| **Min-Max Scaling**    | `MinMaxScaler()`               | $x' = \\frac{x - x_{\\min}}{x_{\\max} - x_{\\min}}$ | 0 to 1 (or custom)      | When features have **known bounds** and **no significant outliers**. Often used in neural networks. |         |                                                                  |\n",
    "| **Standard Scaling**   | `StandardScaler()`             | $x' = \\frac{x - \\mu}{\\sigma}$                   | \\~ -3 to +3 (unbounded) | When features follow a **normal distribution**. Good for regression, logistic regression, SVM, etc. |         |                                                                  |\n",
    "| **Robust Scaling**     | `RobustScaler()`               | $x' = \\frac{x - \\text{median}}{\\text{IQR}}$     | Varies                  | When the dataset contains **outliers**. Uses median & IQR instead of mean & std.                    |         |                                                                  |\n",
    "| **MaxAbs Scaling**     | `MaxAbsScaler()`               | ( x' = \\frac{x}{                                | x\\_{\\max}               | } )                                                                                                 | -1 to 1 | For **sparse** data (e.g. text data). Keeps 0 entries unchanged. |\n",
    "| **Normalizer (L2/L1)** | `Normalizer(norm='l2')`        | $x' = \\frac{x}{\\|x\\|_2}$                        | Unit norm (row-wise)    | When scaling **individual samples**, not features. Used in **text classification**.                 |         |                                                                  |\n",
    "| **Decimal Scaling**    | *Manual implementation*        | $x' = \\frac{x}{10^j}$, where $j$ makes $x' < 1$ | -1 to 1                 | Basic scaling; rarely used in modern ML. Simple but not robust.                                     |         |                                                                  |\n",
    "\n"
   ]
  }
 ],
 "metadata": {
  "language_info": {
   "name": "python"
  }
 },
 "nbformat": 4,
 "nbformat_minor": 5
}
