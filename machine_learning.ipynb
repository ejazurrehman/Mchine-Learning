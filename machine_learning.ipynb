{
 "cells": [
  {
   "cell_type": "markdown",
   "id": "17a2c580",
   "metadata": {},
   "source": [
    "Machine Learning Deep Dive\\\n",
    "Prepare By: Ejaz-ur-Rehman\\\n",
    "Date: 20-07-2025\\\n",
    "Email ID: ijazfinance@gmail.com"
   ]
  },
  {
   "cell_type": "markdown",
   "id": "1f5d11b5",
   "metadata": {},
   "source": [
    "## What is Machine Learning?\n",
    "- Machine learning is a subset of artificial intelligence that involves training algorithms to make predictions or decisions based on data.\n",
    "- Machine learning allows machine to learn and make decisions smarlty. \n",
    "- It can learn from teh data, which is already machines have or provided them to proceed with.\n",
    "- It depends upon the type of machine learning. \n",
    "- In machine learning process, we provide Data then we train the model, then we test the model and finally we deploy the model. Further, we can predict from this process to find unkonwn. \n",
    "- There are four major process:\n",
    "  1. Data Preprocessing\n",
    "  2. Learning \n",
    "  3. Predction \n",
    "  4. Decision \n",
    "- Machine learning is used in many applications such as image recognition, speech recognition, natural language processing, and more.\n",
    "- Machine learning, Deep Learning and Generative AI are the sub branches of Artificial Intelligence.\n",
    "- The advance type of AI is ML, advnace type of ML is DL and further advance type of DL is GAI.\n",
    "    - Articial Intelligence: AI, is the ability of a machine to perform tasks that would typically require human intelligence. OR engineering of making intelligent machines and programms on teh basis of the Data. \n",
    "    - Machine Learning: ML, is a subset of AI that involves training algorithms to make predictions or decisions based on data. OR ability to learn withou explicitly programmed.\n",
    "    - Deep Learning: DL, is a subset of ML that involves training algorithms to learn complex patterns in data. OR learning based on deep nural networks.\n",
    "    - Generative AI: GAI, is a subset of DL that involves training algorithms to generate new data that resembles existing data.\n",
    "- what is Data Science: Data Science is the process of extracting insights and knowledge from data using various techniques and tools. OR process or is a sbset of AI include area of statistics and mathametics, scientific methods to extract menaing and insights from the data.\n",
    "\n",
    "## Types of Machine Learning:\n",
    "- Supervised Learning: In this type of learning, the algorithm is trained on labeled data, where the correct output is already known. Examples are Email Spam Detection: Input (features): Email text, sender, subject line, etc. Output (target variable): Spam or Not Spam. 2. Image Classification: Input (features):Output (label): Spam or Not Spam, Algorithm examples: Naive Bayes, Logistic Regression, SVM.\n",
    "  \n",
    "- Unspervised / Clustering Learning: In this type of learning, the algorithm is trained on unlabeled data, and it must find patterns or structure in the data. Examples are Customer Segmentation, Goal: Group customers based on purchasing behavior, demographics, etc. Algorithm examples: K-Means, Hierarchical Clustering. Use case: Targeted marketing campaigns. Algorithms: K-Means Clustering, DBSCAN, Hierarchical Clustering\n",
    "  \n",
    "- Semisupervised Learning: In this type of learning, the algorithm is trained on a combination of labeled and unlabeled data. Examples are Medical Image Classification, Use case: Classifying X-rays or MRIs as healthy or diseased. Problem: Only a few images are labeled by experts (doctors), while many are unlabeled. Algorithm examples: Self-training, Co-training, Multi-view learning. Use case: Medical diagnosis, diseas\n",
    "Solution: Semi-supervised CNNs learn from a few labeled and many unlabeled images\n",
    "\n",
    "- Reinforcement Learning: In this type of learning, the algorithm learns by interacting with an environment and receiving rewards or penalties for its actions. Examples are Game Playing (Atari, Chess, Go), Use case: AI learns to play and win games. Problem: AI must learn to make decisions based on rewards or penalties. Algorithm examples: Q-learning, SARSA, Deep Q-Networks (DQN). Use case: Robotics, autonomous vehicles, game playing. Algorithms: Q-learning, SARSA, DQN, Policy Gradient Methods. Use case: Robotics, autonomous vehicles, game playing. \n",
    "\n",
    "\n",
    " "
   ]
  }
 ],
 "metadata": {
  "language_info": {
   "name": "python"
  }
 },
 "nbformat": 4,
 "nbformat_minor": 5
}
