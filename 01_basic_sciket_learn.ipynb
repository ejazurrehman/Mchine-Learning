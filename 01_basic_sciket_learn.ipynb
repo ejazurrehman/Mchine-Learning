{
 "cells": [
  {
   "cell_type": "markdown",
   "id": "7c926d4f",
   "metadata": {},
   "source": [
    "## Basic of Sciket_Learn Library Basics\n",
    "Prepare By: Ejaz-ur-Rehman\\\n",
    "Date: 21-07-2025\\\n",
    "Email ID: ijazfinance@gmail.com"
   ]
  },
  {
   "cell_type": "code",
   "execution_count": 2,
   "id": "fd9e590c",
   "metadata": {},
   "outputs": [
    {
     "name": "stdout",
     "output_type": "stream",
     "text": [
      "2.3.1\n"
     ]
    }
   ],
   "source": [
    "import pandas as pd\n",
    "print(pd.__version__)\n"
   ]
  },
  {
   "cell_type": "code",
   "execution_count": 6,
   "id": "001e3a2c",
   "metadata": {},
   "outputs": [],
   "source": [
    "import numpy as np\n",
    "import matplotlib.pyplot as plt\n",
    "import seaborn as sns"
   ]
  },
  {
   "cell_type": "code",
   "execution_count": null,
   "id": "8ddaa658",
   "metadata": {},
   "outputs": [],
   "source": [
    "# simple linear regression\n",
    "from sklearn.linear_model import LinearRegression"
   ]
  },
  {
   "cell_type": "code",
   "execution_count": 8,
   "id": "e7b535e1",
   "metadata": {},
   "outputs": [
    {
     "name": "stdout",
     "output_type": "stream",
     "text": [
      "   total_bill   tip     sex smoker  day    time  size\n",
      "0       16.99  1.01  Female     No  Sun  Dinner     2\n",
      "1       10.34  1.66    Male     No  Sun  Dinner     3\n",
      "2       21.01  3.50    Male     No  Sun  Dinner     3\n",
      "3       23.68  3.31    Male     No  Sun  Dinner     2\n",
      "4       24.59  3.61  Female     No  Sun  Dinner     4\n"
     ]
    }
   ],
   "source": [
    "# load the dataset\n",
    "df = sns.load_dataset('tips')\n",
    "print(df.head())"
   ]
  },
  {
   "cell_type": "code",
   "execution_count": 9,
   "id": "210c88f9",
   "metadata": {},
   "outputs": [],
   "source": [
    "# select features and target\n",
    "X = df[['total_bill']]"
   ]
  },
  {
   "cell_type": "markdown",
   "id": "d02d0542",
   "metadata": {},
   "source": [
    "why we use double quotes instead of single quotes for strings in Python. The reason is that single quotes are used to denot ate single character strings in Python, and double quotes are used to denote multi-character strings. So, if you want to denote a string that contains a single quote, you have to use double quotes. For example, the string \"It's a beautiful day\" contains a single quote, and it is denoted using double quotes. If you use single quotes to denote this string, you will get a syntax error. For example, the following code will raise a syntax error: "
   ]
  }
 ],
 "metadata": {
  "kernelspec": {
   "display_name": "python_ml",
   "language": "python",
   "name": "python3"
  },
  "language_info": {
   "codemirror_mode": {
    "name": "ipython",
    "version": 3
   },
   "file_extension": ".py",
   "mimetype": "text/x-python",
   "name": "python",
   "nbconvert_exporter": "python",
   "pygments_lexer": "ipython3",
   "version": "3.10.18"
  }
 },
 "nbformat": 4,
 "nbformat_minor": 5
}
